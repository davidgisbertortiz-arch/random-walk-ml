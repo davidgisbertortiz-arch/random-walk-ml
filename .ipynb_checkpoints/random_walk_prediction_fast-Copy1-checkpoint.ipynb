{
 "cells": [
  {
   "cell_type": "markdown",
   "id": "61c1d1cd",
   "metadata": {},
   "source": [
    "\n",
    "# Random Walk → Next-Step Prediction (FAST Profile)\n",
    "\n",
    "This notebook is a compact, **fast** version to run locally or in **Google Colab**.\n",
    "It uses the utilities in `model.py` and trains a strong baseline (Histogram Gradient Boosting) **without** grid search.\n",
    "\n",
    "**Why FAST?** You avoid slow GridSearchCV on large datasets and still get clean, convincing results for your portfolio.\n"
   ]
  },
  {
   "cell_type": "code",
   "execution_count": null,
   "id": "9bbcae3e",
   "metadata": {},
   "outputs": [],
   "source": [
    "\n",
    "# --- Path helper: make sure `model.py` is importable in Colab or locally\n",
    "\n",
    "import os, sys\n",
    "\n",
    "# 1) Try import from current dir\n",
    "try:\n",
    "    from model import (\n",
    "        WalkConfig,\n",
    "        generate_random_walks_1d,\n",
    "        make_windows_from_walks,\n",
    "        build_pipeline,\n",
    "        default_param_grid,\n",
    "        group_train_test_split,\n",
    "        tune_with_cv,\n",
    "        evaluate,\n",
    "    )\n",
    "except Exception as e:\n",
    "    print(\"Initial import failed:\", e)\n",
    "    # 2) Try common project structures\n",
    "    tried = []\n",
    "    candidates = [\n",
    "        os.path.abspath('.'),\n",
    "        os.path.abspath('./src'),\n",
    "        os.path.abspath('../src'),\n",
    "        os.path.abspath('/content/drive/MyDrive/random-walk-ml/src'),\n",
    "        os.path.abspath('/content/drive/MyDrive/Random_Walk_ML/src'),\n",
    "    ]\n",
    "    for c in candidates:\n",
    "        if c not in sys.path:\n",
    "            sys.path.insert(0, c)\n",
    "        tried.append(c)\n",
    "        try:\n",
    "            from model import (\n",
    "                WalkConfig,\n",
    "                generate_random_walks_1d,\n",
    "                make_windows_from_walks,\n",
    "                build_pipeline,\n",
    "                default_param_grid,\n",
    "                group_train_test_split,\n",
    "                tune_with_cv,\n",
    "                evaluate,\n",
    "            )\n",
    "            print(\"Imported model.py from:\", c)\n",
    "            break\n",
    "        except Exception as e2:\n",
    "            continue\n",
    "    else:\n",
    "        raise ImportError(f\"Could not import model.py. Tried: {tried}\")\n",
    "\n",
    "print(\"✅ model.py import OK\")\n"
   ]
  },
  {
   "cell_type": "code",
   "execution_count": null,
   "id": "e4bed178",
   "metadata": {},
   "outputs": [],
   "source": [
    "\n",
    "import numpy as np\n",
    "import pandas as pd\n",
    "import matplotlib.pyplot as plt\n",
    "\n",
    "from sklearn.metrics import RocCurveDisplay, PrecisionRecallDisplay, ConfusionMatrixDisplay\n",
    "\n",
    "np.random.seed(42)\n",
    "plt.style.use('default')\n"
   ]
  },
  {
   "cell_type": "markdown",
   "id": "f46f8511",
   "metadata": {},
   "source": [
    "\n",
    "## 1) Generate data (smaller & faster)\n",
    "\n",
    "We create a **mixed** dataset (some fair, some biased walks) to inject learnable signal, but with reduced size to keep runtime low.\n"
   ]
  },
  {
   "cell_type": "code",
   "execution_count": null,
   "id": "9fe5d835",
   "metadata": {},
   "outputs": [],
   "source": [
    "\n",
    "cfg = WalkConfig(n_walks=200, n_steps=300, bias_mode=\"mixed\", seed=42)\n",
    "positions, p_ups = generate_random_walks_1d(cfg)\n",
    "\n",
    "window = 50  # larger window ⇒ fewer samples (faster)\n",
    "X, y, groups = make_windows_from_walks(positions, window=window, horizon=1)\n",
    "\n",
    "X_train, X_test, y_train, y_test, g_train, g_test = group_train_test_split(\n",
    "    X, y, groups, test_size=0.2, seed=42\n",
    ")\n",
    "\n",
    "print(\"Shapes: X:\", X.shape, \"| y:\", y.shape)\n",
    "print(\"Train/Test:\", X_train.shape[0], \"/\", X_test.shape[0])\n"
   ]
  },
  {
   "cell_type": "markdown",
   "id": "7ddab56e",
   "metadata": {},
   "source": [
    "\n",
    "## 2) Train a strong, fast baseline (no grid search)\n",
    "\n",
    "We use **HistogramGradientBoostingClassifier** with lightweight parameters—fast and effective.\n"
   ]
  },
  {
   "cell_type": "code",
   "execution_count": null,
   "id": "a8332df5",
   "metadata": {},
   "outputs": [],
   "source": [
    "\n",
    "from time import perf_counter\n",
    "\n",
    "pipe = build_pipeline(\"hgb\")\n",
    "pipe.set_params(clf__max_depth=3, clf__learning_rate=0.1)  # lightweight defaults\n",
    "\n",
    "t0 = perf_counter()\n",
    "pipe.fit(X_train, y_train)\n",
    "metrics = evaluate(pipe, X_test, y_test)\n",
    "t1 = perf_counter()\n",
    "\n",
    "print(\"Metrics:\", {k: (round(v,3) if isinstance(v, (int,float)) else v) for k,v in metrics.items()})\n",
    "print(f\"Train time: {t1 - t0:.2f}s\")\n"
   ]
  },
  {
   "cell_type": "markdown",
   "id": "42e243cc",
   "metadata": {},
   "source": [
    "\n",
    "## 3) Visualize performance\n",
    "ROC, Precision–Recall, and Confusion Matrix.\n"
   ]
  },
  {
   "cell_type": "code",
   "execution_count": null,
   "id": "3b11038a",
   "metadata": {},
   "outputs": [],
   "source": [
    "\n",
    "plt.figure()\n",
    "RocCurveDisplay.from_estimator(pipe, X_test, y_test)\n",
    "plt.title(\"ROC — HGB (FAST)\")\n",
    "plt.show()\n",
    "\n",
    "plt.figure()\n",
    "PrecisionRecallDisplay.from_estimator(pipe, X_test, y_test)\n",
    "plt.title(\"Precision–Recall — HGB (FAST)\")\n",
    "plt.show()\n",
    "\n",
    "plt.figure()\n",
    "ConfusionMatrixDisplay.from_estimator(pipe, X_test, y_test)\n",
    "plt.title(\"Confusion Matrix — HGB (FAST)\")\n",
    "plt.show()\n"
   ]
  },
  {
   "cell_type": "markdown",
   "id": "9c3fb22e",
   "metadata": {},
   "source": [
    "\n",
    "## 4) Control: purely fair walks (no signal)\n",
    "\n",
    "Accuracy and AUC should be ≈ 0.5 when there’s no bias.\n"
   ]
  },
  {
   "cell_type": "code",
   "execution_count": null,
   "id": "33254f71",
   "metadata": {},
   "outputs": [],
   "source": [
    "\n",
    "cfg_fair = WalkConfig(n_walks=150, n_steps=250, bias_mode=\"fair\", seed=7)\n",
    "pos_fair, p_ups_fair = generate_random_walks_1d(cfg_fair)\n",
    "Xf, yf, gf = make_windows_from_walks(pos_fair, window=window, horizon=1)\n",
    "\n",
    "Xf_tr, Xf_te, yf_tr, yf_te, gf_tr, gf_te = group_train_test_split(Xf, yf, gf, test_size=0.2, seed=7)\n",
    "\n",
    "pipe_fair = build_pipeline(\"hgb\")\n",
    "pipe_fair.set_params(clf__max_depth=3, clf__learning_rate=0.1)\n",
    "pipe_fair.fit(Xf_tr, yf_tr)\n",
    "metrics_fair = evaluate(pipe_fair, Xf_te, yf_te)\n",
    "\n",
    "print(\"Fair-walk metrics (should be ~chance):\", {k: (round(v,3) if isinstance(v, (int,float)) else v) for k,v in metrics_fair.items()})\n"
   ]
  },
  {
   "cell_type": "markdown",
   "id": "c47eaf66",
   "metadata": {},
   "source": [
    "\n",
    "## 5) Takeaways\n",
    "\n",
    "- **FAST** profile avoids heavy grid search and runs quickly in Colab.  \n",
    "- On **mixed** data, the model beats chance by detecting bias.  \n",
    "- On **fair** data, performance drops to **~0.5**, validating the method.  \n",
    "\n",
    "> When you have time, you can re-enable hyperparameter search (RandomizedSearchCV, 3 folds) for a deeper analysis.\n"
   ]
  }
 ],
 "metadata": {
  "kernelspec": {
   "display_name": "Python 3",
   "language": "python",
   "name": "python3"
  },
  "language_info": {
   "name": "python"
  }
 },
 "nbformat": 4,
 "nbformat_minor": 5
}
